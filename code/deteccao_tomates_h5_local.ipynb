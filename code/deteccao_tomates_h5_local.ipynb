{
 "cells": [
  {
   "cell_type": "markdown",
   "id": "ad276fe0",
   "metadata": {},
   "source": [
    "# 🍅 Detecção de Tomates com HDF5\n",
    "Este notebook realiza:\n",
    "- Leitura e extração de dados em `.h5`\n",
    "- Análise exploratória com estatísticas e visualizações\n",
    "- Treinamento de modelo simples de aprendizado de máquina\n"
   ]
  },
  {
   "cell_type": "code",
   "execution_count": null,
   "id": "33f3e82f",
   "metadata": {},
   "outputs": [],
   "source": [
    "import os\n",
    "import h5py\n",
    "import numpy as np\n",
    "import matplotlib.pyplot as plt\n",
    "import seaborn as sns\n",
    "import pandas as pd\n",
    "from glob import glob\n",
    "from PIL import Image\n",
    "\n",
    "from sklearn.cluster import KMeans\n",
    "from sklearn.ensemble import RandomForestClassifier\n",
    "from sklearn.preprocessing import StandardScaler\n",
    "from sklearn.model_selection import train_test_split\n",
    "from sklearn.metrics import classification_report, confusion_matrix\n"
   ]
  },
  {
   "cell_type": "code",
   "execution_count": null,
   "id": "2bab810b",
   "metadata": {},
   "outputs": [],
   "source": [
    "# Altere para o caminho onde estão seus .h5 extraídos dos .tar\n",
    "h5_folder = \"./dados_h5_extraidos\"\n",
    "h5_files = sorted(glob(os.path.join(h5_folder, \"*.h5\")))\n",
    "\n",
    "def carregar_dados_h5(caminho):\n",
    "    with h5py.File(caminho, \"r\") as f:\n",
    "        # Tente detectar as chaves corretas\n",
    "        keys = list(f.keys())\n",
    "        print(\"Chaves encontradas:\", keys)\n",
    "        imagem = np.array(f[keys[0]])  # geralmente RGB ou semântica\n",
    "        return imagem\n",
    "\n",
    "# Exemplo: carregar e mostrar uma imagem\n",
    "imagem_exemplo = carregar_dados_h5(h5_files[0])\n",
    "plt.imshow(imagem_exemplo)\n",
    "plt.title(\"Exemplo de Imagem .h5\")\n",
    "plt.show()"
   ]
  },
  {
   "cell_type": "code",
   "execution_count": null,
   "id": "41c822ad",
   "metadata": {},
   "outputs": [],
   "source": [
    "# Simular extração de features: média, std, etc\n",
    "dados_features = []\n",
    "for fpath in h5_files[:100]:  # usar só os primeiros 100 para teste rápido\n",
    "    img = carregar_dados_h5(fpath)\n",
    "    if img.ndim == 3:\n",
    "        r_mean = np.mean(img[:, :, 0])\n",
    "        g_mean = np.mean(img[:, :, 1])\n",
    "        b_mean = np.mean(img[:, :, 2])\n",
    "        r_std = np.std(img[:, :, 0])\n",
    "        g_std = np.std(img[:, :, 1])\n",
    "        b_std = np.std(img[:, :, 2])\n",
    "        tomate_ratio = np.sum(img[:, :, 1] > 150) / img.size  # exemplo\n",
    "        dados_features.append([r_mean, g_mean, b_mean, r_std, g_std, b_std, tomate_ratio])\n",
    "\n",
    "df = pd.DataFrame(dados_features, columns=[\"r_mean\", \"g_mean\", \"b_mean\", \"r_std\", \"g_std\", \"b_std\", \"tomate_ratio\"])\n",
    "df.head()"
   ]
  },
  {
   "cell_type": "code",
   "execution_count": null,
   "id": "1f547c61",
   "metadata": {},
   "outputs": [],
   "source": [
    "sns.pairplot(df)\n",
    "plt.suptitle(\"Visualização das Features\", y=1.02)\n",
    "plt.show()\n",
    "\n",
    "plt.figure(figsize=(12, 5))\n",
    "sns.heatmap(df.corr(), annot=True, cmap=\"coolwarm\")\n",
    "plt.title(\"Correlação entre Atributos\")\n",
    "plt.show()"
   ]
  },
  {
   "cell_type": "code",
   "execution_count": null,
   "id": "1714a58d",
   "metadata": {},
   "outputs": [],
   "source": [
    "scaler = StandardScaler()\n",
    "X_scaled = scaler.fit_transform(df)\n",
    "\n",
    "kmeans = KMeans(n_clusters=2, random_state=42)\n",
    "df['cluster'] = kmeans.fit_predict(X_scaled)\n",
    "\n",
    "sns.scatterplot(data=df, x='r_mean', y='g_mean', hue='cluster', palette='viridis')\n",
    "plt.title(\"Clusterização das Imagens por Cores\")\n",
    "plt.show()"
   ]
  },
  {
   "cell_type": "code",
   "execution_count": null,
   "id": "9f115bf7",
   "metadata": {},
   "outputs": [],
   "source": [
    "# Simulando um target binário com base no cluster\n",
    "X = df.drop(columns=['cluster'])\n",
    "y = df['cluster']\n",
    "\n",
    "X_train, X_test, y_train, y_test = train_test_split(X, y, test_size=0.2, random_state=42)\n",
    "\n",
    "clf = RandomForestClassifier(n_estimators=100, max_depth=5, random_state=42)\n",
    "clf.fit(X_train, y_train)\n",
    "y_pred = clf.predict(X_test)\n",
    "\n",
    "print(confusion_matrix(y_test, y_pred))\n",
    "print(classification_report(y_test, y_pred))"
   ]
  },
  {
   "cell_type": "code",
   "execution_count": null,
   "id": "23c1c329",
   "metadata": {},
   "outputs": [],
   "source": [
    "print(\"Hiperparâmetros usados no RandomForest:\")\n",
    "print(clf.get_params())"
   ]
  }
 ],
 "metadata": {},
 "nbformat": 4,
 "nbformat_minor": 5
}
